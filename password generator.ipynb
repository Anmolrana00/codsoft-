{
 "cells": [
  {
   "cell_type": "markdown",
   "id": "6b011a65-0c6d-4dff-a35d-579b038d4f1f",
   "metadata": {},
   "source": [
    "@CODSOFT INTERNSHIP\n",
    "Name- Anmol rana\n",
    "Project Name- Password Generator"
   ]
  },
  {
   "cell_type": "code",
   "execution_count": 5,
   "id": "ad00d90d-edb1-4b89-8171-601f67d151b0",
   "metadata": {},
   "outputs": [
    {
     "name": "stdout",
     "output_type": "stream",
     "text": [
      "Welcome to the Password Generator Application!\n"
     ]
    },
    {
     "name": "stdin",
     "output_type": "stream",
     "text": [
      "Enter password length (must be 4 or greater):     5\n",
      "Include uppercase letters? (yes/no):  yes\n",
      "Include numbers? (yes/no):  yes\n",
      "Include special characters? (yes/no):  yes\n"
     ]
    },
    {
     "name": "stdout",
     "output_type": "stream",
     "text": [
      "\n",
      "Generated Password:  u3'fL\n",
      "Password length: 5\n"
     ]
    }
   ],
   "source": [
    "import random\n",
    "import string\n",
    "\n",
    "def get_user_preferences():\n",
    "    \"\"\"Get the user's preferences for password generation.\"\"\"\n",
    "    while True:\n",
    "        try:\n",
    "            length = int(input(\"Enter password length (must be 4 or greater): \"))\n",
    "            if length < 4:\n",
    "                print(\"Password length should be at least 4.\")\n",
    "                continue\n",
    "            break\n",
    "        except ValueError:\n",
    "            print(\"Please enter a valid number.\")\n",
    "    \n",
    "    use_uppercase = input(\"Include uppercase letters? (yes/no): \").strip().lower() == \"yes\"\n",
    "    use_numbers = input(\"Include numbers? (yes/no): \").strip().lower() == \"yes\"\n",
    "    use_special_chars = input(\"Include special characters? (yes/no): \").strip().lower() == \"yes\"\n",
    "    \n",
    "    return length, use_uppercase, use_numbers, use_special_chars\n",
    "\n",
    "def generate_password(length, use_uppercase, use_numbers, use_special_chars):\n",
    "    \"\"\"Generate a password based on user preferences.\"\"\"\n",
    "    \n",
    "    # Define the character sets to use\n",
    "    character_sets = [string.ascii_lowercase]  # Lowercase is always included\n",
    "\n",
    "    if use_uppercase:\n",
    "        character_sets.append(string.ascii_uppercase)\n",
    "    if use_numbers:\n",
    "        character_sets.append(string.digits)\n",
    "    if use_special_chars:\n",
    "        character_sets.append(string.punctuation)\n",
    "\n",
    "    if len(character_sets) == 0:\n",
    "        print(\"No character types selected. Exiting.\")\n",
    "        return None\n",
    "\n",
    "    # Ensure at least one character from each selected set is in the password\n",
    "    password = []\n",
    "    for char_set in character_sets:\n",
    "        password.append(random.choice(char_set))\n",
    "\n",
    "    # Fill the rest of the password with random characters from all selected sets\n",
    "    all_characters = ''.join(character_sets)\n",
    "    password.extend(random.choice(all_characters) for _ in range(length - len(password)))\n",
    "\n",
    "    # Shuffle the password list to avoid predictable patterns\n",
    "    random.shuffle(password)\n",
    "\n",
    "    return ''.join(password)\n",
    "\n",
    "def main():\n",
    "    print(\"Welcome to the Password Generator Application!\")\n",
    "    \n",
    "    # Step 1: Get user preferences\n",
    "    length, use_uppercase, use_numbers, use_special_chars = get_user_preferences()\n",
    "    \n",
    "    # Step 2: Generate the password\n",
    "    password = generate_password(length, use_uppercase, use_numbers, use_special_chars)\n",
    "    \n",
    "    # Step 3: Output the password\n",
    "    if password:\n",
    "        print(\"\\nGenerated Password: \", password)\n",
    "        print(\"Password length:\", len(password))\n",
    "\n",
    "if __name__ == \"__main__\":\n",
    "    main()\n"
   ]
  },
  {
   "cell_type": "markdown",
   "id": "3f7161df-9bd0-4910-9437-74bcffff6591",
   "metadata": {},
   "source": [
    "THANK YOU"
   ]
  }
 ],
 "metadata": {
  "kernelspec": {
   "display_name": "Python 3 (ipykernel)",
   "language": "python",
   "name": "python3"
  },
  "language_info": {
   "codemirror_mode": {
    "name": "ipython",
    "version": 3
   },
   "file_extension": ".py",
   "mimetype": "text/x-python",
   "name": "python",
   "nbconvert_exporter": "python",
   "pygments_lexer": "ipython3",
   "version": "3.12.4"
  }
 },
 "nbformat": 4,
 "nbformat_minor": 5
}
