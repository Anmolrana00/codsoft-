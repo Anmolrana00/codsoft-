{
 "cells": [
  {
   "cell_type": "markdown",
   "id": "37d3d73b-e6e0-4d12-bbf7-c60a50c6121b",
   "metadata": {},
   "source": [
    "@CODSOFT INTERNSHIP\n",
    "NAME-Anmol Rana\n",
    "Project-Rock-Paper-Scissors Game"
   ]
  },
  {
   "cell_type": "code",
   "execution_count": null,
   "id": "3c7cb0c8-cc60-4beb-a9b7-150cd902478c",
   "metadata": {},
   "outputs": [
    {
     "name": "stdout",
     "output_type": "stream",
     "text": [
      "Welcome to Rock, Paper, Scissors!\n"
     ]
    },
    {
     "name": "stdin",
     "output_type": "stream",
     "text": [
      "Enter your choice (rock/paper/scissors):  rock\n"
     ]
    },
    {
     "name": "stdout",
     "output_type": "stream",
     "text": [
      "\n",
      "You chose: rock\n",
      "Computer chose: scissors\n",
      "\n",
      "Result: You win!\n",
      "\n",
      "Scores -> You: 1, Computer: 0\n"
     ]
    },
    {
     "name": "stdin",
     "output_type": "stream",
     "text": [
      "\n",
      "Do you want to play again? (yes/no):  yes\n",
      "Enter your choice (rock/paper/scissors):  Paper\n"
     ]
    },
    {
     "name": "stdout",
     "output_type": "stream",
     "text": [
      "\n",
      "You chose: paper\n",
      "Computer chose: rock\n",
      "\n",
      "Result: You win!\n",
      "\n",
      "Scores -> You: 2, Computer: 0\n"
     ]
    },
    {
     "name": "stdin",
     "output_type": "stream",
     "text": [
      "\n",
      "Do you want to play again? (yes/no):  yes\n",
      "Enter your choice (rock/paper/scissors):  scissors\n"
     ]
    },
    {
     "name": "stdout",
     "output_type": "stream",
     "text": [
      "\n",
      "You chose: scissors\n",
      "Computer chose: rock\n",
      "\n",
      "Result: Computer wins!\n",
      "\n",
      "Scores -> You: 2, Computer: 1\n"
     ]
    }
   ],
   "source": [
    "import random\n",
    "\n",
    "# Function to determine the winner\n",
    "def determine_winner(user_choice, computer_choice):\n",
    "    if user_choice == computer_choice:\n",
    "        return \"It's a tie!\"\n",
    "    elif (user_choice == 'rock' and computer_choice == 'scissors') or \\\n",
    "         (user_choice == 'scissors' and computer_choice == 'paper') or \\\n",
    "         (user_choice == 'paper' and computer_choice == 'rock'):\n",
    "        return \"You win!\"\n",
    "    else:\n",
    "        return \"Computer wins!\"\n",
    "\n",
    "# Function to play the game\n",
    "def play_round():\n",
    "    choices = ['rock', 'paper', 'scissors']\n",
    "    \n",
    "    # Prompt the user for input\n",
    "    user_choice = input(\"Enter your choice (rock/paper/scissors): \").lower()\n",
    "    \n",
    "    # Check if the user input is valid\n",
    "    if user_choice not in choices:\n",
    "        print(\"Invalid choice. Please try again.\")\n",
    "        return None, None\n",
    "    \n",
    "    # Generate computer's choice\n",
    "    computer_choice = random.choice(choices)\n",
    "    \n",
    "    # Display both choices\n",
    "    print(f\"\\nYou chose: {user_choice}\")\n",
    "    print(f\"Computer chose: {computer_choice}\")\n",
    "    \n",
    "    # Determine and display the result\n",
    "    result = determine_winner(user_choice, computer_choice)\n",
    "    print(f\"\\nResult: {result}\")\n",
    "    \n",
    "    return result\n",
    "\n",
    "# Main function to handle game logic and score tracking\n",
    "def main():\n",
    "    print(\"Welcome to Rock, Paper, Scissors!\")\n",
    "    \n",
    "    user_score = 0\n",
    "    computer_score = 0\n",
    "    \n",
    "    while True:\n",
    "        # Play a round and get the result\n",
    "        result = play_round()\n",
    "        \n",
    "        if result == \"You win!\":\n",
    "            user_score += 1\n",
    "        elif result == \"Computer wins!\":\n",
    "            computer_score += 1\n",
    "        \n",
    "        # Display the score\n",
    "        print(f\"\\nScores -> You: {user_score}, Computer: {computer_score}\")\n",
    "        \n",
    "        # Ask if the user wants to play again\n",
    "        play_again = input(\"\\nDo you want to play again? (yes/no): \").lower()\n",
    "        if play_again != \"yes\":\n",
    "            break\n",
    "    \n",
    "    print(\"\\nFinal Scores -> You: {}, Computer: {}\".format(user_score, computer_score))\n",
    "    print(\"Thanks for playing!\")\n",
    "\n",
    "if __name__ == \"__main__\":\n",
    "    main()\n"
   ]
  },
  {
   "cell_type": "markdown",
   "id": "f4ce142b-33eb-4a85-a304-565fbad0b5ce",
   "metadata": {},
   "source": [
    "THANK YOU"
   ]
  }
 ],
 "metadata": {
  "kernelspec": {
   "display_name": "Python 3 (ipykernel)",
   "language": "python",
   "name": "python3"
  },
  "language_info": {
   "codemirror_mode": {
    "name": "ipython",
    "version": 3
   },
   "file_extension": ".py",
   "mimetype": "text/x-python",
   "name": "python",
   "nbconvert_exporter": "python",
   "pygments_lexer": "ipython3",
   "version": "3.12.4"
  }
 },
 "nbformat": 4,
 "nbformat_minor": 5
}
