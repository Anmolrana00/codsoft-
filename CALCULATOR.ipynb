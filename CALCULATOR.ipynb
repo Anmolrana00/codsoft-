{
 "cells": [
  {
   "cell_type": "markdown",
   "id": "93fc0205-5cb5-4730-9ce1-a11d0c8eb7c9",
   "metadata": {},
   "source": [
    "@CODSOFT INTERNSHIP\n",
    "NAME-Anmol Rana\n",
    "PROJECT- Calculator"
   ]
  },
  {
   "cell_type": "code",
   "execution_count": 1,
   "id": "f4e60e6c-a95b-4788-90ef-b3477c428413",
   "metadata": {},
   "outputs": [
    {
     "name": "stdout",
     "output_type": "stream",
     "text": [
      "Simple Calculator\n",
      "Select operation:\n",
      "1. Addition (+)\n",
      "2. Subtraction (-)\n",
      "3. Multiplication (*)\n",
      "4. Division (/)\n"
     ]
    },
    {
     "name": "stdin",
     "output_type": "stream",
     "text": [
      "Enter first number:  6\n",
      "Enter second number:  0\n",
      "Choose operation (1/2/3/4):  2\n"
     ]
    },
    {
     "name": "stdout",
     "output_type": "stream",
     "text": [
      "Result: 6.0\n"
     ]
    }
   ],
   "source": [
    "# Function to perform basic arithmetic operations\n",
    "def calculate(num1, num2, operation):\n",
    "    if operation == '1':\n",
    "        return num1 + num2\n",
    "    elif operation == '2':\n",
    "        return num1 - num2\n",
    "    elif operation == '3':\n",
    "        return num1 * num2\n",
    "    elif operation == '4':\n",
    "        if num2 == 0:\n",
    "            return \"Error: Division by zero is not allowed.\"\n",
    "        return num1 / num2\n",
    "    else:\n",
    "        return \"Invalid operation choice.\"\n",
    "\n",
    "def main():\n",
    "    print(\"Simple Calculator\")\n",
    "    print(\"Select operation:\")\n",
    "    print(\"1. Addition (+)\")\n",
    "    print(\"2. Subtraction (-)\")\n",
    "    print(\"3. Multiplication (*)\")\n",
    "    print(\"4. Division (/)\")\n",
    "\n",
    "    # Take input from the user for numbers and operation\n",
    "    try:\n",
    "        num1 = float(input(\"Enter first number: \"))\n",
    "        num2 = float(input(\"Enter second number: \"))\n",
    "        operation = input(\"Choose operation (1/2/3/4): \")\n",
    "        \n",
    "        # Perform the calculation\n",
    "        result = calculate(num1, num2, operation)\n",
    "        \n",
    "        # Display the result\n",
    "        print(\"Result:\", result)\n",
    "\n",
    "    except ValueError:\n",
    "        print(\"Invalid input. Please enter valid numbers.\")\n",
    "\n",
    "if __name__ == \"__main__\":\n",
    "    main()\n"
   ]
  },
  {
   "cell_type": "markdown",
   "id": "4c2119da-c9b8-472d-9915-583919f1dcb4",
   "metadata": {},
   "source": [
    "THANK YOU"
   ]
  }
 ],
 "metadata": {
  "kernelspec": {
   "display_name": "Python 3 (ipykernel)",
   "language": "python",
   "name": "python3"
  },
  "language_info": {
   "codemirror_mode": {
    "name": "ipython",
    "version": 3
   },
   "file_extension": ".py",
   "mimetype": "text/x-python",
   "name": "python",
   "nbconvert_exporter": "python",
   "pygments_lexer": "ipython3",
   "version": "3.12.4"
  }
 },
 "nbformat": 4,
 "nbformat_minor": 5
}
